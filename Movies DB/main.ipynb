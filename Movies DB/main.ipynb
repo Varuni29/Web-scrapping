{
 "cells": [
  {
   "cell_type": "code",
   "execution_count": 1,
   "metadata": {},
   "outputs": [],
   "source": [
    "import pandas as pd\n",
    "from bs4 import BeautifulSoup as bs\n",
    "import requests\n",
    "import openpyxl"
   ]
  },
  {
   "cell_type": "code",
   "execution_count": 2,
   "metadata": {},
   "outputs": [],
   "source": [
    "URL=\"https://www.themoviedb.org/movie/top-rated\"\n",
    "headers = {\n",
    "    \"User-Agent\": \"Mozilla/5.0 (Windows NT 10.0; Win64; x64) AppleWebKit/537.36 (KHTML, like Gecko) Chrome/58.0.3029.110 Safari/537.36\"\n",
    "}\n",
    "response=requests.get(URL,headers=headers,timeout=50)\n",
    "page=response.text"
   ]
  },
  {
   "cell_type": "code",
   "execution_count": 3,
   "metadata": {},
   "outputs": [],
   "source": [
    "soup=bs(page,'lxml')"
   ]
  },
  {
   "cell_type": "code",
   "execution_count": 5,
   "metadata": {},
   "outputs": [],
   "source": [
    "all_links=[]\n",
    "for i in range(1,15):\n",
    "  URL=f'https://www.themoviedb.org/movie/top-rated?page={i}'\n",
    "  response=requests.get(URL,headers=headers)\n",
    "  page=response.text\n",
    "  soup=bs(page, 'lxml')\n",
    "  divs = soup.find_all(name='div', class_='card style_1')\n",
    "  for div in divs:\n",
    "    link = 'https://www.themoviedb.org/' + div.find(name='a', class_='image').get('href')\n",
    "    all_links.append(link)\n",
    "  # link='https://www.themoviedb.org/'+ soup.find_all(name='div',class_='card style_1').find(name='a',class_='image').get('href')\n",
    "  # all_links.append(link)"
   ]
  },
  {
   "cell_type": "code",
   "execution_count": 6,
   "metadata": {},
   "outputs": [],
   "source": [
    "URL=all_links[0]\n",
    "response=requests.get(URL,headers=headers)\n",
    "page=response.text\n",
    "soup=bs(page, 'lxml')"
   ]
  },
  {
   "cell_type": "code",
   "execution_count": null,
   "metadata": {},
   "outputs": [],
   "source": [
    "profiles=soup.find_all('li', class_='profile')\n",
    "person_info = []\n",
    "for person in profiles:\n",
    "  name = soup.find('li', class_='profile')\n",
    "  name=person.find('p').text\n",
    "  tag=person.find('p',class_='character').text\n",
    "  person_info.append({\n",
    "    'name': name,\n",
    "    'title': tag\n",
    "  })"
   ]
  },
  {
   "cell_type": "markdown",
   "metadata": {},
   "source": [
    "For multiple movies"
   ]
  },
  {
   "cell_type": "code",
   "execution_count": 15,
   "metadata": {},
   "outputs": [],
   "source": [
    "movie_details=[]\n",
    "for URL in all_links:\n",
    "  headers = {\n",
    "    \"User-Agent\": \"Mozilla/5.0 (Windows NT 10.0; Win64; x64) AppleWebKit/537.36 (KHTML, like Gecko) Chrome/58.0.3029.110 Safari/537.36\"\n",
    "  } \n",
    "  # print(URL)\n",
    "  response=requests.get(URL,headers=headers)\n",
    "  page=response.text\n",
    "  soup=bs(page, 'lxml')\n",
    "  # movvie details\n",
    "  movie_name=soup.find(name='h2').text.strip()\n",
    "  release_date=soup.find('span',class_='release').text.strip()\n",
    "  genres=soup.find('span',class_='genres').text.replace('\\xa0', '').strip()\n",
    "  runtime=soup.find('span',class_='runtime').text.strip()\n",
    "  percent=soup.find('span', class_='icon')\n",
    "  user_score=(\" \".join(percent.get('class')) .split()[-1].split('-')[-1].replace('r',\"\")) + \" %\"\n",
    "  tagline_element=soup.find('h3',class_='tagline')\n",
    "  tagline = tagline_element.text.strip() if tagline_element else \"-\"\n",
    "  description=soup.find('div',class_='overview').text.strip()\n",
    "  profiles=soup.find_all('li', class_='profile')\n",
    "  person_info = []\n",
    "  for person in profiles:\n",
    "    name = soup.find('li', class_='profile')\n",
    "    name=person.find('p').text\n",
    "    tag=person.find('p',class_='character').text\n",
    "    person_info.append({\n",
    "      'name': name,\n",
    "      'title': tag\n",
    "    })\n",
    "  movie_details.append({\n",
    "        'movie_name': movie_name,\n",
    "        'movie_link': URL,\n",
    "        'release_date': release_date,\n",
    "        'genres': genres,\n",
    "        'runtime': runtime,\n",
    "        'user_score': user_score,\n",
    "        'tagline': tagline,\n",
    "        'description': description,\n",
    "        'profiles': person_info\n",
    "      })\n",
    "    "
   ]
  },
  {
   "cell_type": "code",
   "execution_count": 16,
   "metadata": {},
   "outputs": [
    {
     "data": {
      "text/plain": [
       "{'movie_name': 'The Shawshank Redemption\\n(1994)',\n",
       " 'movie_link': 'https://www.themoviedb.org//movie/278-the-shawshank-redemption',\n",
       " 'release_date': '09/23/1994 (US)',\n",
       " 'genres': 'Drama,Crime',\n",
       " 'runtime': '2h 22m',\n",
       " 'user_score': '87 %',\n",
       " 'tagline': 'Fear can hold you prisoner. Hope can set you free.',\n",
       " 'description': 'Imprisoned in the 1940s for the double murder of his wife and her lover, upstanding banker Andy Dufresne begins a new life at the Shawshank prison, where he puts his accounting skills to work for an amoral warden. During his long stretch in prison, Dufresne comes to be admired by the other inmates -- including an older prisoner named Red -- for his integrity and unquenchable sense of hope.',\n",
       " 'profiles': [{'name': 'Frank Darabont', 'title': 'Director, Screenplay'},\n",
       "  {'name': 'Stephen King', 'title': 'Novel'}]}"
      ]
     },
     "execution_count": 16,
     "metadata": {},
     "output_type": "execute_result"
    }
   ],
   "source": [
    "movie_details[0]"
   ]
  },
  {
   "cell_type": "code",
   "execution_count": 17,
   "metadata": {},
   "outputs": [
    {
     "name": "stdout",
     "output_type": "stream",
     "text": [
      "{'movie_name': 'David Attenborough: A Life on Our Planet\\n(2020)', 'movie_link': 'https://www.themoviedb.org//movie/664280-david-attenborough-a-life-on-our-planet', 'release_date': '10/04/2020 (US)', 'genres': 'Documentary,Drama', 'runtime': '1h 23m', 'user_score': '85 %', 'tagline': '-', 'description': 'The story of life on our planet by the man who has seen more of the natural world than any other. In more than 90 years, Attenborough has visited every continent on the globe, exploring the wild places of our planet and documenting the living world in all its variety and wonder. Addressing the biggest challenges facing life on our planet, the film offers a powerful message of hope for future generations.', 'profiles': 'Keith Scholey (Director); Alastair Fothergill (Director); Jonathan Hughes (Director)'}\n"
     ]
    }
   ],
   "source": [
    "movie_details_cleaned=movie_details\n",
    "# len(movie_details_cleaned)\n",
    "for movie in movie_details_cleaned:\n",
    "    # Join profile names and titles into a single string for each profile\n",
    "    # print(movie)\n",
    "    profiles_info = []\n",
    "    for profile in movie['profiles']:\n",
    "        # print(profile)\n",
    "        profiles_info.append(f\"{profile['name']} ({profile['title']})\")\n",
    "    \n",
    "    # Create a single string from the profiles\n",
    "    movie['profiles'] = '; '.join(profiles_info)\n",
    "\n",
    "# Example output\n",
    "print(movie_details_cleaned[15])\n"
   ]
  },
  {
   "cell_type": "code",
   "execution_count": null,
   "metadata": {},
   "outputs": [],
   "source": [
    "# movie_details_cleaned[:3]\n",
    "df=pd.DataFrame(movie_details_cleaned)\n",
    "pd.set_option('display.max_colwidth', None)"
   ]
  },
  {
   "cell_type": "code",
   "execution_count": 53,
   "metadata": {},
   "outputs": [
    {
     "data": {
      "text/plain": [
       "0    Frank Darabont (Director, Screenplay); Stephen King (Novel)\n",
       "Name: profiles, dtype: object"
      ]
     },
     "execution_count": 53,
     "metadata": {},
     "output_type": "execute_result"
    }
   ],
   "source": [
    "df.head(1)['profiles']"
   ]
  },
  {
   "cell_type": "markdown",
   "metadata": {},
   "source": [
    "Formatting Profiles"
   ]
  },
  {
   "cell_type": "code",
   "execution_count": null,
   "metadata": {},
   "outputs": [],
   "source": [
    "import numpy as np\n",
    "\n",
    "# Initialize the columns with NaN values\n",
    "df['director'] = np.nan\n",
    "df['screenplay'] = np.nan\n",
    "df['novel'] = np.nan\n",
    "df['writer'] = np.nan\n",
    "df['story'] = np.nan\n",
    "df['characters'] = np.nan\n",
    "\n",
    "def extract_roles(profiles, roles):\n",
    "    # Create a dictionary to hold the roles and their respective names\n",
    "    matches = {role: [] for role in roles}  \n",
    "    for part in profiles.split(';'):\n",
    "        part = part.strip()\n",
    "        for role in roles:\n",
    "            if role in part:\n",
    "                # Get the name by removing the role part in parentheses\n",
    "                name = part.split('(')[0].strip()\n",
    "                matches[role].append(name)\n",
    "    \n",
    "    # Return matches as a formatted string for each role\n",
    "    return {role: ', '.join(set(names)) if names else np.nan for role, names in matches.items()}\n",
    "\n",
    "# Define the roles we want to extract\n",
    "roles = ['Director', 'Screenplay', 'Novel', 'Writer', 'Story', 'Characters']\n",
    "\n",
    "# Apply the extraction function to each row in the DataFrame\n",
    "for index, row in df.iterrows():\n",
    "    results = extract_roles(row['profiles'], roles)\n",
    "    df.at[index, 'director'] = results['Director']\n",
    "    df.at[index, 'screenplay'] = results['Screenplay']\n",
    "    df.at[index, 'novel'] = results['Novel']\n",
    "    df.at[index, 'writer'] = results['Writer']\n",
    "    df.at[index, 'story'] = results['Story']\n",
    "    df.at[index, 'characters'] = results['Characters']"
   ]
  },
  {
   "cell_type": "code",
   "execution_count": null,
   "metadata": {},
   "outputs": [],
   "source": [
    "pd.set_option('display.max_colwidth', 100)\n",
    "df['movie_name'] = df['movie_name'].str.strip()\n",
    "df['movie_name'] = df['movie_name'].str.replace('\\n', '', regex=False)\n",
    "df = df.fillna('-')"
   ]
  },
  {
   "cell_type": "code",
   "execution_count": 61,
   "metadata": {},
   "outputs": [],
   "source": [
    "df.to_excel('moviesdb.xlsx',index=False)"
   ]
  }
 ],
 "metadata": {
  "kernelspec": {
   "display_name": "moviesdb",
   "language": "python",
   "name": "python3"
  },
  "language_info": {
   "codemirror_mode": {
    "name": "ipython",
    "version": 3
   },
   "file_extension": ".py",
   "mimetype": "text/x-python",
   "name": "python",
   "nbconvert_exporter": "python",
   "pygments_lexer": "ipython3",
   "version": "3.10.4"
  }
 },
 "nbformat": 4,
 "nbformat_minor": 2
}
