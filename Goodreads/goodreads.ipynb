{
 "cells": [
  {
   "cell_type": "code",
   "execution_count": 53,
   "metadata": {},
   "outputs": [],
   "source": [
    "from bs4 import BeautifulSoup as bs\n",
    "import requests\n",
    "import pandas as pd\n",
    "import re\n",
    "import openpyxl"
   ]
  },
  {
   "cell_type": "code",
   "execution_count": 39,
   "metadata": {},
   "outputs": [],
   "source": [
    "# URL=\"https://www.goodreads.com/list/show/264.Books_That_Everyone_Should_Read_At_Least_Once\"\n",
    "# headers = {\n",
    "#     \"User-Agent\": \"Mozilla/5.0 (Windows NT 10.0; Win64; x64) AppleWebKit/537.36 (KHTML, like Gecko) Chrome/58.0.3029.110 Safari/537.36\"\n",
    "# }\n",
    "# response=requests.get(URL,headers=headers)\n",
    "# page=response.text\n"
   ]
  },
  {
   "cell_type": "code",
   "execution_count": 40,
   "metadata": {},
   "outputs": [],
   "source": [
    "# soup = bs(page, 'lxml')"
   ]
  },
  {
   "cell_type": "code",
   "execution_count": null,
   "metadata": {},
   "outputs": [],
   "source": [
    "# link='https://www.goodreads.com'+str(soup.find(name=\"a\",class_=\"bookTitle\").get('href'))"
   ]
  },
  {
   "cell_type": "code",
   "execution_count": null,
   "metadata": {},
   "outputs": [],
   "source": [
    "# Title=soup.find(name=\"a\",class_=\"bookTitle\").find('span').getText()"
   ]
  },
  {
   "cell_type": "code",
   "execution_count": null,
   "metadata": {},
   "outputs": [],
   "source": [
    "# Author=soup.find('a',class_='authorName').find('span').getText()"
   ]
  },
  {
   "cell_type": "code",
   "execution_count": 31,
   "metadata": {},
   "outputs": [],
   "source": [
    "# Ratings=soup.find('span',class_='minirating').get_text()\n",
    "# text=Ratings.split('—')\n",
    "# text=re.sub(r'[^0-9,]', '',text[1].strip())\n",
    "# Total_Ratings=text\n",
    "# Avg_Ratings=Ratings[:5].strip()"
   ]
  },
  {
   "cell_type": "markdown",
   "metadata": {},
   "source": [
    "FOR 1 BOOK"
   ]
  },
  {
   "cell_type": "code",
   "execution_count": 49,
   "metadata": {},
   "outputs": [],
   "source": [
    "\n",
    "All_Books_Data=[]\n",
    "for i in range(1,30):\n",
    "  URL=f\"https://www.goodreads.com/list/show/264.Books_That_Everyone_Should_Read_At_Least_Once?page={i}\"\n",
    "  response=requests.get(URL,headers=headers)\n",
    "  page=response.text\n",
    "  soup=bs(page, 'lxml')\n",
    "  book_rows = soup.find_all('tr', itemscope=True, itemtype=\"http://schema.org/Book\")\n",
    "  for soup in book_rows:\n",
    "    link='https://www.goodreads.com'+str(soup.find(name=\"a\",class_=\"bookTitle\").get('href'))\n",
    "    Title=soup.find(name=\"a\",class_=\"bookTitle\").find('span').getText()\n",
    "    Author=soup.find('a',class_='authorName').find('span').getText()\n",
    "    Ratings=soup.find('span',class_='minirating').get_text()\n",
    "    text=Ratings.split('—')\n",
    "    text=re.sub(r'[^0-9,]', '',text[1].strip())\n",
    "    Total_Ratings=text\n",
    "    Avg_Ratings=Ratings[:5].strip()\n",
    "\n",
    "    data={\n",
    "      \"Name\":Title,\n",
    "      \"Link\":link,\n",
    "      \"Author\": Author,\n",
    "      \"Ratings\":Total_Ratings,\n",
    "      \"Avg_Stars\":Avg_Ratings\n",
    "    }\n",
    "    All_Books_Data.append(data)\n",
    "\n"
   ]
  },
  {
   "cell_type": "code",
   "execution_count": 50,
   "metadata": {},
   "outputs": [
    {
     "data": {
      "text/plain": [
       "(2900, 5)"
      ]
     },
     "execution_count": 50,
     "metadata": {},
     "output_type": "execute_result"
    }
   ],
   "source": [
    "df=pd.DataFrame(All_Books_Data)\n",
    "df.shape"
   ]
  },
  {
   "cell_type": "code",
   "execution_count": 55,
   "metadata": {},
   "outputs": [],
   "source": [
    "df.to_excel('Goodreads_scrapped_list.xlsx',engine=\"openpyxl\")"
   ]
  }
 ],
 "metadata": {
  "kernelspec": {
   "display_name": "scrapping_env",
   "language": "python",
   "name": "python3"
  },
  "language_info": {
   "codemirror_mode": {
    "name": "ipython",
    "version": 3
   },
   "file_extension": ".py",
   "mimetype": "text/x-python",
   "name": "python",
   "nbconvert_exporter": "python",
   "pygments_lexer": "ipython3",
   "version": "3.10.4"
  }
 },
 "nbformat": 4,
 "nbformat_minor": 2
}
